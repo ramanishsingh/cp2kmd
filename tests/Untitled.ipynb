{
 "cells": [
  {
   "cell_type": "code",
   "execution_count": 5,
   "metadata": {},
   "outputs": [],
   "source": [
    "# Deleting files that we do not need, files generated from a previous run\n",
    "import os\n",
    "import glob\n",
    "\n",
    "extension_list=[\"*inp*\",\"*out\",\"*ener\",\"*rest*\",\"*Hess*\",\"*REST*\",\"*.xyz\",\"*.pdb\"]\n",
    "for name in extension_list:\n",
    "    \n",
    "    filelist=glob.glob(name)\n",
    "    for file in filelist:\n",
    "        os.remove(file)\n",
    "\n",
    "\n",
    "# ### Loading modules\n",
    "\n",
    "# In[2]:\n",
    "\n",
    "\n",
    "\n",
    "import mbuild as mb \n",
    "\n",
    "import numpy as np\n",
    "from cp2kmd import runners\n",
    "import unyt as u\n",
    "\n",
    "from cp2kmd.cp2kmd import Cp2kmd"
   ]
  },
  {
   "cell_type": "code",
   "execution_count": 6,
   "metadata": {},
   "outputs": [],
   "source": [
    "\n",
    "class Cl2(mb.Compound): # this class builds a chlorine molecule with a bond-length given in the chlorine2 x coor (nm)\n",
    "    def __init__(self):\n",
    "        super(Cl2, self).__init__()\n",
    "        \n",
    "        chlorine1= mb.Particle(pos=[0.0, 0.0, 0.0], name='Cl')\n",
    "        chlorine2= mb.Particle(pos=[0.2, 0.0, 0.0], name='Cl')\n",
    "        self.add([chlorine2,chlorine1])\n",
    "        self.add_bond((chlorine2,chlorine1))\n",
    "        \n",
    "class FCl(mb.Compound): # this class builds a chlorine molecule with a bond-length given in the chlorine2 x coor (nm)\n",
    "    def __init__(self):\n",
    "        super(FCl, self).__init__()\n",
    "        \n",
    "        fluorine1= mb.Particle(pos=[0.0, 0.0, 0.0], name='F')\n",
    "        chlorine2= mb.Particle(pos=[0.2, 0.0, 0.0], name='Cl')\n",
    "        self.add([fluorine1,chlorine2])\n",
    "        self.add_bond((fluorine1,chlorine2))\n"
   ]
  },
  {
   "cell_type": "code",
   "execution_count": 7,
   "metadata": {},
   "outputs": [],
   "source": [
    "md=Cp2kmd(molecule=[Cl2(),FCl()])"
   ]
  },
  {
   "cell_type": "code",
   "execution_count": null,
   "metadata": {},
   "outputs": [],
   "source": []
  }
 ],
 "metadata": {
  "kernelspec": {
   "display_name": "Python 3",
   "language": "python",
   "name": "python3"
  },
  "language_info": {
   "codemirror_mode": {
    "name": "ipython",
    "version": 3
   },
   "file_extension": ".py",
   "mimetype": "text/x-python",
   "name": "python",
   "nbconvert_exporter": "python",
   "pygments_lexer": "ipython3",
   "version": "3.6.11"
  }
 },
 "nbformat": 4,
 "nbformat_minor": 4
}
